{
 "cells": [
  {
   "cell_type": "code",
   "execution_count": 9,
   "metadata": {},
   "outputs": [
    {
     "ename": "ModuleNotFoundError",
     "evalue": "No module named 'sklearn'",
     "output_type": "error",
     "traceback": [
      "\u001b[1;31m---------------------------------------------------------------------------\u001b[0m",
      "\u001b[1;31mModuleNotFoundError\u001b[0m                       Traceback (most recent call last)",
      "Cell \u001b[1;32mIn[9], line 3\u001b[0m\n\u001b[0;32m      1\u001b[0m \u001b[38;5;28;01mimport\u001b[39;00m\u001b[38;5;250m \u001b[39m\u001b[38;5;21;01mpandas\u001b[39;00m\u001b[38;5;250m \u001b[39m\u001b[38;5;28;01mas\u001b[39;00m\u001b[38;5;250m \u001b[39m\u001b[38;5;21;01mpd\u001b[39;00m\n\u001b[0;32m      2\u001b[0m \u001b[38;5;28;01mimport\u001b[39;00m\u001b[38;5;250m \u001b[39m\u001b[38;5;21;01mnumpy\u001b[39;00m\u001b[38;5;250m \u001b[39m\u001b[38;5;28;01mas\u001b[39;00m\u001b[38;5;250m \u001b[39m\u001b[38;5;21;01mnp\u001b[39;00m\n\u001b[1;32m----> 3\u001b[0m \u001b[38;5;28;01mfrom\u001b[39;00m\u001b[38;5;250m \u001b[39m\u001b[38;5;21;01msklearn\u001b[39;00m\u001b[38;5;21;01m.\u001b[39;00m\u001b[38;5;21;01mmodel_selection\u001b[39;00m\u001b[38;5;250m \u001b[39m\u001b[38;5;28;01mimport\u001b[39;00m train_test_split\n\u001b[0;32m      4\u001b[0m \u001b[38;5;28;01mfrom\u001b[39;00m\u001b[38;5;250m \u001b[39m\u001b[38;5;21;01msklearn\u001b[39;00m\u001b[38;5;21;01m.\u001b[39;00m\u001b[38;5;21;01mpreprocessing\u001b[39;00m\u001b[38;5;250m \u001b[39m\u001b[38;5;28;01mimport\u001b[39;00m LabelEncoder, StandardScaler\n\u001b[0;32m      5\u001b[0m \u001b[38;5;28;01mimport\u001b[39;00m\u001b[38;5;250m \u001b[39m\u001b[38;5;21;01mtorch\u001b[39;00m\n",
      "\u001b[1;31mModuleNotFoundError\u001b[0m: No module named 'sklearn'"
     ]
    }
   ],
   "source": [
    "import pandas as pd\n",
    "import numpy as np\n",
    "from sklearn.model_selection import train_test_split\n",
    "from sklearn.preprocessing import LabelEncoder, StandardScaler\n",
    "import torch\n",
    "\n",
    "# Load dataset\n",
    "df = pd.read_csv(\"Darknet.CSV\")\n",
    "\n",
    "# Drop non-numeric columns (IP Addresses, Timestamps)\n",
    "df = df.drop(columns=[\"Flow ID\", \"Src IP\", \"Dst IP\", \"Timestamp\"])\n",
    "\n",
    "# Encode Label 1 (Traffic Type)\n",
    "label1_encoder = LabelEncoder()\n",
    "df[\"Traffic_Type\"] = label1_encoder.fit_transform(df[\"label1\"])  \n",
    "\n",
    "# Encode Label (TOR, VPN, etc.)\n",
    "label_encoder = LabelEncoder()\n",
    "df[\"Traffic_Class\"] = label_encoder.fit_transform(df[\"label\"])  \n",
    "\n",
    "# Feature Scaling\n",
    "scaler = StandardScaler()\n",
    "X = scaler.fit_transform(df.drop(columns=[\"Traffic_Type\", \"Traffic_Class\"]))\n",
    "y_categorization = df[\"Traffic_Type\"].values  # Traffic Type\n",
    "y_detection = df[\"Traffic_Class\"].values  # TOR, VPN, etc.\n",
    "\n",
    "# Split Data for Training & Testing\n",
    "X_train, X_test, y_train_cat, y_test_cat = train_test_split(X, y_categorization, test_size=0.2, random_state=42)\n",
    "X_train, X_test, y_train_det, y_test_det = train_test_split(X, y_detection, test_size=0.2, random_state=42)\n",
    "\n",
    "# Convert to PyTorch tensors\n",
    "X_train_tensor = torch.tensor(X_train, dtype=torch.float32)\n",
    "X_test_tensor = torch.tensor(X_test, dtype=torch.float32)\n",
    "y_train_cat_tensor = torch.tensor(y_train_cat, dtype=torch.long)\n",
    "y_test_cat_tensor = torch.tensor(y_test_cat, dtype=torch.long)\n",
    "y_train_det_tensor = torch.tensor(y_train_det, dtype=torch.float32)\n",
    "y_test_det_tensor = torch.tensor(y_test_det, dtype=torch.float32)\n"
   ]
  }
 ],
 "metadata": {
  "kernelspec": {
   "display_name": "Python 3",
   "language": "python",
   "name": "python3"
  },
  "language_info": {
   "codemirror_mode": {
    "name": "ipython",
    "version": 3
   },
   "file_extension": ".py",
   "mimetype": "text/x-python",
   "name": "python",
   "nbconvert_exporter": "python",
   "pygments_lexer": "ipython3",
   "version": "3.11.9"
  }
 },
 "nbformat": 4,
 "nbformat_minor": 2
}
